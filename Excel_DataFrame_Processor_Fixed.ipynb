{
 "cells": [
  {
   "cell_type": "markdown",
   "metadata": {},
   "source": [
    "# Excel DataFrame Processor - Jupyter Notebook Example (Fixed)\n",
    "\n",
    "This notebook demonstrates how to use the Excel DataFrame Processor in Jupyter notebooks for data analysis and visualization.\n",
    "\n",
    "## Features Covered:\n",
    "- 📊 Loading Excel files programmatically\n",
    "- 🔍 Executing SQL queries on Excel data\n",
    "- 🎨 Using magic commands for convenient querying (with fallback)\n",
    "- 📈 Data visualization with matplotlib and seaborn\n",
    "- 📤 Exporting results to CSV\n",
    "- 🔗 Joining data from multiple Excel files"
   ]
  },
  {
   "cell_type": "markdown",
   "metadata": {},
   "source": [
    "## Setup and Installation\n",
    "\n",
    "First, make sure you have the Excel DataFrame Processor installed and sample data created:"
   ]
  },
  {
   "cell_type": "code",
   "execution_count": null,
   "metadata": {},
   "outputs": [],
   "source": [
    "# Install required packages (run this if needed)\n",
    "# !pip install pandas openpyxl matplotlib seaborn plotly\n",
    "\n",
    "# Create sample data (run this if sample_data directory doesn't exist)\n",
    "# !python create_sample_data.py"
   ]
  },
  {
   "cell_type": "markdown",
   "metadata": {},
   "source": [
    "## Import Libraries"
   ]
  },
  {
   "cell_type": "code",
   "execution_count": null,
   "metadata": {},
   "outputs": [],
   "source": [
    "import pandas as pd\n",
    "import matplotlib.pyplot as plt\n",
    "import seaborn as sns\n",
    "import plotly.express as px\n",
    "import plotly.graph_objects as go\n",
    "from pathlib import Path\n",
    "\n",
    "# Import Excel DataFrame Processor\n",
    "from excel_processor.notebook import ExcelProcessor\n",
    "\n",
    "# Set up plotting style\n",
    "plt.style.use('default')\n",
    "sns.set_palette(\"husl\")\n",
    "\n",
    "# Display settings\n",
    "pd.set_option('display.max_columns', None)\n",
    "pd.set_option('display.width', None)\n",
    "pd.set_option('display.max_colwidth', 50)"
   ]
  },
  {
   "cell_type": "markdown",
   "metadata": {},
   "source": [
    "## Method 1: Programmatic Interface"
   ]
  },
  {
   "cell_type": "markdown",
   "metadata": {},
   "source": [
    "### Initialize the Excel Processor"
   ]
  },
  {
   "cell_type": "code",
   "execution_count": null,
   "metadata": {},
   "outputs": [],
   "source": [
    "# Initialize the Excel processor with sample data directory\n",
    "excel_processor = ExcelProcessor(db_directory='sample_data', memory_limit_mb=512)\n",
    "\n",
    "print(\"✅ Excel DataFrame Processor initialized!\")\n",
    "print(f\"📁 Database directory: {excel_processor.db_directory}\")"
   ]
  },
  {
   "cell_type": "markdown",
   "metadata": {},
   "source": [
    "### Explore Available Data"
   ]
  },
  {
   "cell_type": "code",
   "execution_count": null,
   "metadata": {},
   "outputs": [],
   "source": [
    "# Show all available Excel files and sheets\n",
    "db_info = excel_processor.show_db()\n",
    "\n",
    "# Load all files into memory for faster querying\n",
    "load_info = excel_processor.load_db()"
   ]
  },
  {
   "cell_type": "markdown",
   "metadata": {},
   "source": [
    "### Basic SQL Queries"
   ]
  },
  {
   "cell_type": "code",
   "execution_count": null,
   "metadata": {},
   "outputs": [],
   "source": [
    "# Query 1: View all employees\n",
    "employees = excel_processor.query(\"SELECT * FROM employees.staff\")\n",
    "print(f\"📊 Total employees: {len(employees)}\")"
   ]
  },
  {
   "cell_type": "code",
   "execution_count": null,
   "metadata": {},
   "outputs": [],
   "source": [
    "# Query 2: High earners only\n",
    "high_earners = excel_processor.query(\n",
    "    \"SELECT name, department, salary FROM employees.staff WHERE salary > 70000 ORDER BY salary DESC\"\n",
    ")\n",
    "print(f\"💰 High earners (>$70k): {len(high_earners)}\")"
   ]
  },
  {
   "cell_type": "code",
   "execution_count": null,
   "metadata": {},
   "outputs": [],
   "source": [
    "# Query 3: Department summary using pandas (since GROUP BY isn't fully implemented yet)\n",
    "dept_stats = employees.groupby('department').agg({\n",
    "    'salary': ['count', 'mean', 'min', 'max'],\n",
    "    'age': 'mean'\n",
    "}).round(2)\n",
    "\n",
    "dept_stats.columns = ['employee_count', 'avg_salary', 'min_salary', 'max_salary', 'avg_age']\n",
    "print(\"📈 Department Statistics:\")\n",
    "display(dept_stats)"
   ]
  },
  {
   "cell_type": "markdown",
   "metadata": {},
   "source": [
    "### Working with Multiple Files"
   ]
  },
  {
   "cell_type": "code",
   "execution_count": null,
   "metadata": {},
   "outputs": [],
   "source": [
    "# Query orders data\n",
    "orders = excel_processor.query(\"SELECT * FROM orders.sales_data\")\n",
    "print(f\"📦 Total orders: {len(orders)}\")\n",
    "\n",
    "# Query products data\n",
    "products = excel_processor.query(\"SELECT * FROM products.catalog\")\n",
    "inventory = excel_processor.query(\"SELECT * FROM products.inventory\")\n",
    "\n",
    "print(f\"🛍️ Products in catalog: {len(products)}\")\n",
    "print(f\"📦 Inventory records: {len(inventory)}\")"
   ]
  },
  {
   "cell_type": "markdown",
   "metadata": {},
   "source": [
    "### Test NULL Functionality"
   ]
  },
  {
   "cell_type": "code",
   "execution_count": null,
   "metadata": {},
   "outputs": [],
   "source": [
    "# Test Oracle-style NULL checks (if test_nulls.xlsx exists)\n",
    "try:\n",
    "    null_test = excel_processor.query(\"SELECT * FROM test_nulls.staff_with_nulls WHERE name IS NULL\")\n",
    "    print(f\"📊 Records with NULL names: {len(null_test)}\")\n",
    "    \n",
    "    not_null_test = excel_processor.query(\"SELECT * FROM test_nulls.staff_with_nulls WHERE department IS NOT NULL\")\n",
    "    print(f\"📊 Records with non-NULL departments: {len(not_null_test)}\")\n",
    "except Exception as e:\n",
    "    print(f\"⚠️ NULL test data not available: {e}\")\n",
    "    print(\"Run create_null_test_data.py to create test data with NULL values\")"
   ]
  },
  {
   "cell_type": "markdown",
   "metadata": {},
   "source": [
    "## Method 2: Magic Commands (with Fallback)"
   ]
  },
  {
   "cell_type": "code",
   "execution_count": null,
   "metadata": {},
   "outputs": [],
   "source": [
    "# Try to load Excel magic commands\n",
    "try:\n",
    "    get_ipython().magic('load_ext excel_processor.notebook')\n",
    "    magic_available = True\n",
    "    print(\"✨ Excel magic commands loaded!\")\n",
    "    print(\"Available commands:\")\n",
    "    print(\"  %excel_init --db <directory>\")\n",
    "    print(\"  %excel_show_db\")\n",
    "    print(\"  %excel_load_db\")\n",
    "    print(\"  %excel_memory\")\n",
    "    print(\"  %%excel_sql\")\n",
    "except Exception as e:\n",
    "    magic_available = False\n",
    "    print(f\"⚠️ Magic commands not available: {e}\")\n",
    "    print(\"Using programmatic interface instead...\")"
   ]
  },
  {
   "cell_type": "code",
   "execution_count": null,
   "metadata": {},
   "outputs": [],
   "source": [
    "if magic_available:\n",
    "    # Initialize with magic command\n",
    "    get_ipython().magic('excel_init --db sample_data --memory-limit 512')\n",
    "    \n",
    "    # Show database contents\n",
    "    get_ipython().magic('excel_show_db')\n",
    "    \n",
    "    # Load all files\n",
    "    get_ipython().magic('excel_load_db')\n",
    "else:\n",
    "    # Fallback to programmatic interface\n",
    "    print(\"Using programmatic interface for magic command examples...\")\n",
    "    excel_processor.show_db()\n",
    "    excel_processor.load_db()"
   ]
  },
  {
   "cell_type": "code",
   "execution_count": null,
   "metadata": {},
   "outputs": [],
   "source": [
    "# Execute SQL queries (works with both magic and programmatic interface)\n",
    "if magic_available:\n",
    "    # This would be the magic command syntax in a real notebook:\n",
    "    # %%excel_sql\n",
    "    # SELECT name, department, salary FROM employees.staff WHERE salary > 75000 ORDER BY salary DESC\n",
    "    \n",
    "    # For now, use programmatic interface\n",
    "    high_salary_magic = excel_processor.query(\n",
    "        \"SELECT name, department, salary FROM employees.staff WHERE salary > 75000 ORDER BY salary DESC\"\n",
    "    )\n",
    "else:\n",
    "    # Use programmatic interface\n",
    "    high_salary_magic = excel_processor.query(\n",
    "        \"SELECT name, department, salary FROM employees.staff WHERE salary > 75000 ORDER BY salary DESC\"\n",
    "    )"
   ]
  },
  {
   "cell_type": "code",
   "execution_count": null,
   "metadata": {},
   "outputs": [],
   "source": [
    "# Check memory usage\n",
    "if magic_available:\n",
    "    get_ipython().magic('excel_memory')\n",
    "else:\n",
    "    memory_info = excel_processor.get_memory_usage()\n",
    "    print(f\"💾 Memory Usage:\")\n",
    "    print(f\"  Total: {memory_info['total_mb']:.2f} MB\")\n",
    "    print(f\"  Limit: {memory_info['limit_mb']:.2f} MB\")\n",
    "    print(f\"  Usage: {memory_info['usage_percent']:.1f}%\")\n",
    "    print(f\"  Files loaded: {len(memory_info['files'])}\")"
   ]
  },
  {
   "cell_type": "markdown",
   "metadata": {},
   "source": [
    "## Data Analysis and Visualization"
   ]
  },
  {
   "cell_type": "code",
   "execution_count": null,
   "metadata": {},
   "outputs": [],
   "source": [
    "# Salary distribution by department\n",
    "plt.figure(figsize=(12, 6))\n",
    "\n",
    "plt.subplot(1, 2, 1)\n",
    "sns.boxplot(data=employees, x='department', y='salary')\n",
    "plt.title('Salary Distribution by Department')\n",
    "plt.xticks(rotation=45)\n",
    "\n",
    "plt.subplot(1, 2, 2)\n",
    "dept_counts = employees['department'].value_counts()\n",
    "plt.pie(dept_counts.values, labels=dept_counts.index, autopct='%1.1f%%')\n",
    "plt.title('Employee Distribution by Department')\n",
    "\n",
    "plt.tight_layout()\n",
    "plt.show()"
   ]
  },
  {
   "cell_type": "markdown",
   "metadata": {},
   "source": [
    "## Export Results"
   ]
  },
  {
   "cell_type": "code",
   "execution_count": null,
   "metadata": {},
   "outputs": [],
   "source": [
    "# Export high earners to CSV using SQL syntax\n",
    "high_earners_export = excel_processor.query(\n",
    "    \"SELECT name, department, salary FROM employees.staff WHERE salary > 70000\",\n",
    "    display_result=False\n",
    ")\n",
    "high_earners_export.to_csv('high_earners.csv', index=False)\n",
    "print(\"✅ Exported high earners to high_earners.csv\")\n",
    "\n",
    "# Export department summary\n",
    "dept_stats.to_csv('department_summary.csv')\n",
    "print(\"✅ Exported department summary to department_summary.csv\")"
   ]
  },
  {
   "cell_type": "markdown",
   "metadata": {},
   "source": [
    "## Summary\n",
    "\n",
    "This notebook demonstrated:\n",
    "\n",
    "✅ **Programmatic Interface**: Using `ExcelProcessor` class for direct Python integration  \n",
    "✅ **Magic Commands**: Convenient magic commands with fallback to programmatic interface  \n",
    "✅ **Oracle-style SQL**: Support for `IS NULL` and `IS NOT NULL` operators  \n",
    "✅ **Data Analysis**: Combining Excel data with pandas for advanced analytics  \n",
    "✅ **Visualization**: Creating charts and plots with matplotlib and seaborn  \n",
    "✅ **Export Capabilities**: Saving results to CSV files  \n",
    "✅ **Memory Management**: Monitoring and controlling memory usage  \n",
    "\n",
    "### Key Features:\n",
    "- **Tab Completion**: Intelligent auto-completion for table names, columns, and values\n",
    "- **Oracle-style Syntax**: Support for `IS NULL`, `IS NOT NULL`, and quoted strings\n",
    "- **Single Query Mode**: Execute queries from command line with `--query` parameter\n",
    "- **Error Handling**: Graceful handling of syntax errors and missing data\n",
    "\n",
    "Happy analyzing! 🚀📊"
   ]
  }
 ],
 "metadata": {
  "kernelspec": {
   "display_name": "Python 3",
   "language": "python",
   "name": "python3"
  },
  "language_info": {
   "codemirror_mode": {
    "name": "ipython",
    "version": 3
   },
   "file_extension": ".py",
   "mimetype": "text/x-python",
   "name": "python",
   "nbconvert_exporter": "python",
   "pygments_lexer": "ipython3",
   "version": "3.8.0"
  }
 },
 "nbformat": 4,
 "nbformat_minor": 4
}