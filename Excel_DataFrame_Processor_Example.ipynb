{
 "cells": [
  {
   "cell_type": "markdown",
   "metadata": {},
   "source": [
    "# Excel DataFrame Processor - Jupyter Notebook Example\n",
    "\n",
    "This notebook demonstrates how to use the Excel DataFrame Processor in Jupyter notebooks for data analysis and visualization.\n",
    "\n",
    "## Features Covered:\n",
    "- 📊 Loading Excel files programmatically\n",
    "- 🔍 Executing SQL queries on Excel data\n",
    "- 🎨 Using magic commands for convenient querying\n",
    "- 📈 Data visualization with matplotlib and seaborn\n",
    "- 📤 Exporting results to CSV\n",
    "- 🔗 Joining data from multiple Excel files"
   ]
  },
  {
   "cell_type": "markdown",
   "metadata": {},
   "source": [
    "## Setup and Installation\n",
    "\n",
    "First, make sure you have the Excel DataFrame Processor installed and sample data created:"
   ]
  },
  {
   "cell_type": "code",
   "execution_count": null,
   "metadata": {},
   "outputs": [],
   "source": [
    "# Install required packages (run this if needed)\n",
    "# !pip install pandas openpyxl matplotlib seaborn plotly\n",
    "\n",
    "# Create sample data (run this if sample_data directory doesn't exist)\n",
    "# !python create_sample_data.py"
   ]
  },
  {
   "cell_type": "markdown",
   "metadata": {},
   "source": [
    "## Import Libraries"
   ]
  },
  {
   "cell_type": "code",
   "execution_count": null,
   "metadata": {},
   "outputs": [],
   "source": [
    "import pandas as pd\n",
    "import matplotlib.pyplot as plt\n",
    "import seaborn as sns\n",
    "import plotly.express as px\n",
    "import plotly.graph_objects as go\n",
    "from pathlib import Path\n",
    "\n",
    "# Import Excel DataFrame Processor\n",
    "from excel_processor.notebook import ExcelProcessor\n",
    "\n",
    "# Set up plotting style\n",
    "plt.style.use('default')\n",
    "sns.set_palette(\"husl\")\n",
    "\n",
    "# Display settings\n",
    "pd.set_option('display.max_columns', None)\n",
    "pd.set_option('display.width', None)\n",
    "pd.set_option('display.max_colwidth', 50)"
   ]
  },
  {
   "cell_type": "markdown",
   "metadata": {},
   "source": [
    "## Method 1: Programmatic Interface\n",
    "\n",
    "### Initialize the Excel Processor"
   ]
  },
  {
   "cell_type": "code",
   "execution_count": null,
   "metadata": {},
   "outputs": [],
   "source": [
    "# Initialize the Excel processor with sample data directory\n",
    "excel_processor = ExcelProcessor(db_directory='sample_data', memory_limit_mb=512)\n",
    "\n",
    "print(\"✅ Excel DataFrame Processor initialized!\")\n",
    "print(f\"📁 Database directory: {excel_processor.db_directory}\")"
   ]
  },
  {
   "cell_type": "markdown",
   "metadata": {},
   "source": [
    "### Explore Available Data"
   ]
  },
  {
   "cell_type": "code",
   "execution_count": null,
   "metadata": {},
   "outputs": [],
   "source": [
    "# Show all available Excel files and sheets\n",
    "db_info = excel_processor.show_db()"
   ]
  },
  {
   "cell_type": "code",
   "execution_count": null,
   "metadata": {},
   "outputs": [],
   "source": [
    "# Load all files into memory for faster querying\n",
    "load_info = excel_processor.load_db()"
   ]
  },
  {
   "cell_type": "markdown",
   "metadata": {},
   "source": [
    "### Basic SQL Queries"
   ]
  },
  {
   "cell_type": "code",
   "execution_count": null,
   "metadata": {},
   "outputs": [],
   "source": [
    "# Query 1: View all employees\n",
    "employees = excel_processor.query(\"SELECT * FROM employees.staff\")\n",
    "print(f\"📊 Total employees: {len(employees)}\")"
   ]
  },
  {
   "cell_type": "code",
   "execution_count": null,
   "metadata": {},
   "outputs": [],
   "source": [
    "# Query 2: High earners only\n",
    "high_earners = excel_processor.query(\n",
    "    \"SELECT name, department, salary FROM employees.staff WHERE salary > 70000 ORDER BY salary DESC\"\n",
    ")\n",
    "print(f\"💰 High earners (>$70k): {len(high_earners)}\")"
   ]
  },
  {
   "cell_type": "code",
   "execution_count": null,
   "metadata": {},
   "outputs": [],
   "source": [
    "# Query 3: Department summary\n",
    "dept_summary = excel_processor.query(\n",
    "    \"SELECT department FROM employees.staff\"\n",
    ")\n",
    "\n",
    "# Since GROUP BY is not fully implemented yet, let's use pandas for aggregation\n",
    "dept_stats = employees.groupby('department').agg({\n",
    "    'salary': ['count', 'mean', 'min', 'max'],\n",
    "    'age': 'mean'\n",
    "}).round(2)\n",
    "\n",
    "dept_stats.columns = ['employee_count', 'avg_salary', 'min_salary', 'max_salary', 'avg_age']\n",
    "print(\"📈 Department Statistics:\")\n",
    "display(dept_stats)"
   ]
  },
  {
   "cell_type": "markdown",
   "metadata": {},
   "source": [
    "### Working with Multiple Files"
   ]
  },
  {
   "cell_type": "code",
   "execution_count": null,
   "metadata": {},
   "outputs": [],
   "source": [
    "# Query orders data\n",
    "orders = excel_processor.query(\"SELECT * FROM orders.sales_data\")\n",
    "print(f\"📦 Total orders: {len(orders)}\")"
   ]
  },
  {
   "cell_type": "code",
   "execution_count": null,
   "metadata": {},
   "outputs": [],
   "source": [
    "# Query products data\n",
    "products = excel_processor.query(\"SELECT * FROM products.catalog\")\n",
    "inventory = excel_processor.query(\"SELECT * FROM products.inventory\")\n",
    "\n",
    "print(f\"🛍️ Products in catalog: {len(products)}\")\n",
    "print(f\"📦 Inventory records: {len(inventory)}\")"
   ]
  },
  {
   "cell_type": "markdown",
   "metadata": {},
   "source": [
    "### Data Analysis and Visualization"
   ]
  },
  {
   "cell_type": "code",
   "execution_count": null,
   "metadata": {},
   "outputs": [],
   "source": [
    "# Salary distribution by department\n",
    "plt.figure(figsize=(12, 6))\n",
    "\n",
    "plt.subplot(1, 2, 1)\n",
    "sns.boxplot(data=employees, x='department', y='salary')\n",
    "plt.title('Salary Distribution by Department')\n",
    "plt.xticks(rotation=45)\n",
    "\n",
    "plt.subplot(1, 2, 2)\n",
    "dept_counts = employees['department'].value_counts()\n",
    "plt.pie(dept_counts.values, labels=dept_counts.index, autopct='%1.1f%%')\n",
    "plt.title('Employee Distribution by Department')\n",
    "\n",
    "plt.tight_layout()\n",
    "plt.show()"
   ]
  },
  {
   "cell_type": "code",
   "execution_count": null,
   "metadata": {},
   "outputs": [],
   "source": [
    "# Sales analysis\n",
    "plt.figure(figsize=(12, 8))\n",
    "\n",
    "# Convert order_date to datetime if it's not already\n",
    "orders['order_date'] = pd.to_datetime(orders['order_date'])\n",
    "\n",
    "plt.subplot(2, 2, 1)\n",
    "monthly_sales = orders.groupby(orders['order_date'].dt.to_period('M'))['amount'].sum()\n",
    "monthly_sales.plot(kind='bar')\n",
    "plt.title('Monthly Sales')\n",
    "plt.xticks(rotation=45)\n",
    "\n",
    "plt.subplot(2, 2, 2)\n",
    "region_sales = orders.groupby('region')['amount'].sum()\n",
    "region_sales.plot(kind='bar', color='skyblue')\n",
    "plt.title('Sales by Region')\n",
    "\n",
    "plt.subplot(2, 2, 3)\n",
    "status_counts = orders['status'].value_counts()\n",
    "plt.pie(status_counts.values, labels=status_counts.index, autopct='%1.1f%%')\n",
    "plt.title('Order Status Distribution')\n",
    "\n",
    "plt.subplot(2, 2, 4)\n",
    "plt.scatter(orders['order_date'], orders['amount'], alpha=0.6)\n",
    "plt.title('Order Amount Over Time')\n",
    "plt.xticks(rotation=45)\n",
    "\n",
    "plt.tight_layout()\n",
    "plt.show()"
   ]
  },
  {
   "cell_type": "markdown",
   "metadata": {},
   "source": [
    "### Interactive Plotly Visualizations"
   ]
  },
  {
   "cell_type": "code",
   "execution_count": null,
   "metadata": {},
   "outputs": [],
   "source": [
    "# Interactive salary vs age scatter plot\n",
    "fig = px.scatter(\n",
    "    employees, \n",
    "    x='age', \n",
    "    y='salary', \n",
    "    color='department',\n",
    "    size='salary',\n",
    "    hover_data=['name'],\n",
    "    title='Employee Salary vs Age by Department'\n",
    ")\n",
    "fig.show()"
   ]
  },
  {
   "cell_type": "code",
   "execution_count": null,
   "metadata": {},
   "outputs": [],
   "source": [
    "# Interactive sales timeline\n",
    "fig = px.line(\n",
    "    orders.sort_values('order_date'), \n",
    "    x='order_date', \n",
    "    y='amount',\n",
    "    color='region',\n",
    "    title='Sales Timeline by Region',\n",
    "    hover_data=['customer', 'status']\n",
    ")\n",
    "fig.show()"
   ]
  },
  {
   "cell_type": "markdown",
   "metadata": {},
   "source": [
    "## Method 2: Magic Commands\n",
    "\n",
    "Load the Excel magic commands for even more convenient usage:"
   ]
  },
  {
   "cell_type": "code",
   "execution_count": null,
   "metadata": {},
   "outputs": [],
   "source": [
    "# Load Excel magic commands\n",
    "%load_ext excel_processor.notebook\n",
    "\n",
    "print(\"✨ Excel magic commands loaded!\")\n",
    "print(\"Available commands:\")\n",
    "print(\"  %excel_init --db <directory>\")\n",
    "print(\"  %excel_show_db\")\n",
    "print(\"  %excel_load_db\")\n",
    "print(\"  %excel_memory\")\n",
    "print(\"  %%excel_sql\")"
   ]
  },
  {
   "cell_type": "code",
   "execution_count": null,
   "metadata": {},
   "outputs": [],
   "source": [
    "# Initialize with magic command\n",
    "%excel_init --db sample_data --memory-limit 512"
   ]
  },
  {
   "cell_type": "code",
   "execution_count": null,
   "metadata": {},
   "outputs": [],
   "source": [
    "# Show database contents\n",
    "%excel_show_db"
   ]
  },
  {
   "cell_type": "code",
   "execution_count": null,
   "metadata": {},
   "outputs": [],
   "source": [
    "# Load all files\n",
    "%excel_load_db"
   ]
  },
  {
   "cell_type": "code",
   "execution_count": null,
   "metadata": {},
   "outputs": [],
   "source": [
    "# Execute SQL with cell magic\n",
    "%%excel_sql\n",
    "SELECT name, department, salary \n",
    "FROM employees.staff \n",
    "WHERE salary > 75000 \n",
    "ORDER BY salary DESC"
   ]
  },
  {
   "cell_type": "code",
   "execution_count": null,
   "metadata": {},
   "outputs": [],
   "source": [
    "# Another SQL query with magic\n",
    "%%excel_sql\n",
    "SELECT * FROM products.catalog WHERE price > 500"
   ]
  },
  {
   "cell_type": "code",
   "execution_count": null,
   "metadata": {},
   "outputs": [],
   "source": [
    "# Check memory usage\n",
    "%excel_memory"
   ]
  },
  {
   "cell_type": "markdown",
   "metadata": {},
   "source": [
    "## Advanced Analysis: Combining Data Sources"
   ]
  },
  {
   "cell_type": "code",
   "execution_count": null,
   "metadata": {},
   "outputs": [],
   "source": [
    "# Since complex joins aren't implemented yet, let's use pandas to combine data\n",
    "# This simulates what the full SQL engine would do\n",
    "\n",
    "# Employee sales performance\n",
    "employee_sales = orders.groupby('employee_id').agg({\n",
    "    'order_id': 'count',\n",
    "    'amount': ['sum', 'mean']\n",
    "}).round(2)\n",
    "\n",
    "employee_sales.columns = ['order_count', 'total_sales', 'avg_order_value']\n",
    "employee_sales = employee_sales.reset_index()\n",
    "\n",
    "# Merge with employee data\n",
    "employee_performance = employees.merge(\n",
    "    employee_sales, \n",
    "    left_on='id', \n",
    "    right_on='employee_id', \n",
    "    how='left'\n",
    ").fillna(0)\n",
    "\n",
    "print(\"👥 Employee Sales Performance:\")\n",
    "display(employee_performance[['name', 'department', 'salary', 'order_count', 'total_sales', 'avg_order_value']].head(10))"
   ]
  },
  {
   "cell_type": "code",
   "execution_count": null,
   "metadata": {},
   "outputs": [],
   "source": [
    "# Visualize employee performance\n",
    "fig, axes = plt.subplots(2, 2, figsize=(15, 10))\n",
    "\n",
    "# Sales vs Salary\n",
    "axes[0, 0].scatter(employee_performance['salary'], employee_performance['total_sales'], \n",
    "                   c=employee_performance['order_count'], cmap='viridis', alpha=0.7)\n",
    "axes[0, 0].set_xlabel('Salary')\n",
    "axes[0, 0].set_ylabel('Total Sales')\n",
    "axes[0, 0].set_title('Sales Performance vs Salary')\n",
    "\n",
    "# Department performance\n",
    "dept_performance = employee_performance.groupby('department')[['total_sales', 'order_count']].sum()\n",
    "dept_performance['total_sales'].plot(kind='bar', ax=axes[0, 1])\n",
    "axes[0, 1].set_title('Total Sales by Department')\n",
    "axes[0, 1].tick_params(axis='x', rotation=45)\n",
    "\n",
    "# Order count distribution\n",
    "axes[1, 0].hist(employee_performance['order_count'], bins=10, alpha=0.7, color='skyblue')\n",
    "axes[1, 0].set_xlabel('Number of Orders')\n",
    "axes[1, 0].set_ylabel('Number of Employees')\n",
    "axes[1, 0].set_title('Distribution of Orders per Employee')\n",
    "\n",
    "# Top performers\n",
    "top_performers = employee_performance.nlargest(5, 'total_sales')\n",
    "axes[1, 1].barh(top_performers['name'], top_performers['total_sales'])\n",
    "axes[1, 1].set_xlabel('Total Sales')\n",
    "axes[1, 1].set_title('Top 5 Sales Performers')\n",
    "\n",
    "plt.tight_layout()\n",
    "plt.show()"
   ]
  },
  {
   "cell_type": "markdown",
   "metadata": {},
   "source": [
    "## Export Results"
   ]
  },
  {
   "cell_type": "code",
   "execution_count": null,
   "metadata": {},
   "outputs": [],
   "source": [
    "# Export high earners to CSV using SQL syntax\n",
    "high_earners_export = excel_processor.query(\n",
    "    \"SELECT name, department, salary FROM employees.staff WHERE salary > 70000 > high_earners.csv\",\n",
    "    display_result=False\n",
    ")"
   ]
  },
  {
   "cell_type": "code",
   "execution_count": null,
   "metadata": {},
   "outputs": [],
   "source": [
    "# Export employee performance analysis\n",
    "employee_performance.to_csv('employee_performance_analysis.csv', index=False)\n",
    "print(\"✅ Exported employee performance analysis to employee_performance_analysis.csv\")"
   ]
  },
  {
   "cell_type": "code",
   "execution_count": null,
   "metadata": {},
   "outputs": [],
   "source": [
    "# Export department summary\n",
    "dept_stats.to_csv('department_summary.csv')\n",
    "print(\"✅ Exported department summary to department_summary.csv\")"
   ]
  },
  {
   "cell_type": "markdown",
   "metadata": {},
   "source": [
    "## Memory Management"
   ]
  },
  {
   "cell_type": "code",
   "execution_count": null,
   "metadata": {},
   "outputs": [],
   "source": [
    "# Check current memory usage\n",
    "memory_info = excel_processor.get_memory_usage()\n",
    "\n",
    "print(\"💾 Memory Usage Summary:\")\n",
    "print(f\"  Total: {memory_info['total_mb']:.2f} MB\")\n",
    "print(f\"  Limit: {memory_info['limit_mb']:.2f} MB\")\n",
    "print(f\"  Usage: {memory_info['usage_percent']:.1f}%\")\n",
    "print(f\"  Files loaded: {len(memory_info['files'])}\")\n",
    "\n",
    "if memory_info['files']:\n",
    "    print(\"\\n📄 Memory usage by file:\")\n",
    "    for file_name, usage in memory_info['files'].items():\n",
    "        print(f\"  {file_name}: {usage:.2f} MB\")"
   ]
  },
  {
   "cell_type": "markdown",
   "metadata": {},
   "source": [
    "## Summary and Next Steps\n",
    "\n",
    "This notebook demonstrated:\n",
    "\n",
    "✅ **Programmatic Interface**: Using `ExcelProcessor` class for direct Python integration  \n",
    "✅ **Magic Commands**: Convenient `%%excel_sql` magic for inline SQL queries  \n",
    "✅ **Data Analysis**: Combining Excel data with pandas for advanced analytics  \n",
    "✅ **Visualization**: Creating charts and plots with matplotlib, seaborn, and plotly  \n",
    "✅ **Export Capabilities**: Saving results to CSV files  \n",
    "✅ **Memory Management**: Monitoring and controlling memory usage  \n",
    "\n",
    "### Future Enhancements:\n",
    "- Full JOIN support in SQL queries\n",
    "- GROUP BY and aggregate functions in SQL\n",
    "- More advanced filtering and sorting options\n",
    "- Integration with other data sources\n",
    "- Real-time data updates and monitoring\n",
    "\n",
    "### Try These Next:\n",
    "1. Create your own Excel files and analyze them\n",
    "2. Combine multiple data sources for comprehensive analysis\n",
    "3. Build interactive dashboards with plotly\n",
    "4. Automate reporting workflows\n",
    "5. Integrate with machine learning pipelines\n",
    "\n",
    "Happy analyzing! 🚀📊"
   ]
  }
 ],
 "metadata": {
  "kernelspec": {
   "display_name": "Python 3",
   "language": "python",
   "name": "python3"
  },
  "language_info": {
   "codemirror_mode": {
    "name": "ipython",
    "version": 3
   },
   "file_extension": ".py",
   "mimetype": "text/x-python",
   "name": "python",
   "nbconvert_exporter": "python",
   "pygments_lexer": "ipython3",
   "version": "3.8.0"
  }
 },
 "nbformat": 4,
 "nbformat_minor": 4
}